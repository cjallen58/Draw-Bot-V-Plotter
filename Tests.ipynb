{
 "cells": [
  {
   "cell_type": "code",
   "execution_count": 1,
   "metadata": {},
   "outputs": [],
   "source": [
    "import cv2\n",
    "from matplotlib import pyplot as plt\n",
    "import numpy as np\n",
    "import utils\n",
    "from scipy.spatial.distance import pdist, squareform\n",
    "from tsp_solver.greedy_numpy import solve_tsp\n",
    "from math import sqrt\n"
   ]
  },
  {
   "attachments": {},
   "cell_type": "markdown",
   "metadata": {},
   "source": [
    "Cell below is for image reformating"
   ]
  },
  {
   "cell_type": "code",
   "execution_count": null,
   "metadata": {},
   "outputs": [],
   "source": [
    "img = cv2.imread('./Images/statue.jpg', 1)\n",
    "#imgCont = utils.contrast(img)\n",
    "imgresize = utils.rez(img)\n",
    "imgGray = cv2.cvtColor(imgresize, cv2.COLOR_BGR2GRAY)\n",
    "imgDither = utils.dithering(imgGray, .2)\n",
    "WVS_points = utils.WVS(img)\n",
    "dPoints = np.argwhere(imgDither == 0)\n",
    "dPoints = np.delete(dPoints, 2, 1)\n",
    "print(dPoints.shape)\n",
    "#print(dPoints[:3])\n",
    "\n",
    "\n"
   ]
  },
  {
   "cell_type": "code",
   "execution_count": 2,
   "metadata": {},
   "outputs": [
    {
     "name": "stdout",
     "output_type": "stream",
     "text": [
      "index: 0\n"
     ]
    },
    {
     "ename": "IndexError",
     "evalue": "index 453 is out of bounds for axis 1 with size 450",
     "output_type": "error",
     "traceback": [
      "\u001b[1;31m---------------------------------------------------------------------------\u001b[0m",
      "\u001b[1;31mIndexError\u001b[0m                                Traceback (most recent call last)",
      "\u001b[1;32mj:\\Python\\Projects\\Images\\Tests.ipynb Cell 4\u001b[0m in \u001b[0;36m5\n\u001b[0;32m      <a href='vscode-notebook-cell:/j%3A/Python/Projects/Images/Tests.ipynb#X12sZmlsZQ%3D%3D?line=2'>3</a>\u001b[0m imgresize \u001b[39m=\u001b[39m utils\u001b[39m.\u001b[39mrez(img)\n\u001b[0;32m      <a href='vscode-notebook-cell:/j%3A/Python/Projects/Images/Tests.ipynb#X12sZmlsZQ%3D%3D?line=3'>4</a>\u001b[0m imgGray \u001b[39m=\u001b[39m cv2\u001b[39m.\u001b[39mcvtColor(imgresize, cv2\u001b[39m.\u001b[39mCOLOR_BGR2GRAY)\n\u001b[1;32m----> <a href='vscode-notebook-cell:/j%3A/Python/Projects/Images/Tests.ipynb#X12sZmlsZQ%3D%3D?line=4'>5</a>\u001b[0m WVS_points \u001b[39m=\u001b[39m utils\u001b[39m.\u001b[39;49mWVS(imgGray)\n",
      "File \u001b[1;32mj:\\Python\\Projects\\Images\\utils.py:87\u001b[0m, in \u001b[0;36mWVS\u001b[1;34m(img, iterations)\u001b[0m\n\u001b[0;32m     84\u001b[0m xrange \u001b[39m=\u001b[39m \u001b[39mrange\u001b[39m((w \u001b[39m-\u001b[39m \u001b[39m1\u001b[39m), (w \u001b[39m+\u001b[39m \u001b[39m2\u001b[39m))\n\u001b[0;32m     85\u001b[0m yrange \u001b[39m=\u001b[39m \u001b[39mrange\u001b[39m((h \u001b[39m-\u001b[39m \u001b[39m1\u001b[39m), (h \u001b[39m+\u001b[39m \u001b[39m2\u001b[39m))\n\u001b[0;32m     86\u001b[0m darkest \u001b[39m=\u001b[39m {\u001b[39m\"\u001b[39m\u001b[39mlocation\u001b[39m\u001b[39m\"\u001b[39m : location,\n\u001b[1;32m---> 87\u001b[0m             \u001b[39m\"\u001b[39m\u001b[39mvalue\u001b[39m\u001b[39m\"\u001b[39m : img[h, w]}\n\u001b[0;32m     89\u001b[0m \u001b[39mfor\u001b[39;00m y \u001b[39min\u001b[39;00m yrange:\n\u001b[0;32m     90\u001b[0m     \u001b[39mfor\u001b[39;00m x \u001b[39min\u001b[39;00m xrange:\n",
      "\u001b[1;31mIndexError\u001b[0m: index 453 is out of bounds for axis 1 with size 450"
     ]
    }
   ],
   "source": [
    "\"\"\"testing WVS function\"\"\"\n",
    "img = cv2.imread('./Images/statue.jpg', 1)\n",
    "imgresize = utils.rez(img)\n",
    "imgGray = cv2.cvtColor(imgresize, cv2.COLOR_BGR2GRAY)\n",
    "WVS_points = utils.WVS(imgGray)\n"
   ]
  },
  {
   "cell_type": "code",
   "execution_count": 3,
   "metadata": {},
   "outputs": [
    {
     "name": "stdout",
     "output_type": "stream",
     "text": [
      "None\n"
     ]
    }
   ],
   "source": [
    "dPoints = dPoints[:13000]\n",
    "tour = utils.nearest_neighbor_it(dPoints)\n",
    "print(tour)"
   ]
  },
  {
   "cell_type": "code",
   "execution_count": null,
   "metadata": {},
   "outputs": [],
   "source": [
    "final = np.hsplit(tour, 2)\n",
    "Points = utils.scale(final, 2)\n",
    "plt.plot(Points[0], Points[1], c = 'k', linewidth = .2)\n",
    "plt.show()"
   ]
  },
  {
   "cell_type": "code",
   "execution_count": null,
   "metadata": {},
   "outputs": [],
   "source": [
    "cv2.imshow('orig', img)\n",
    "#cv2.imshow('Contrast', imgCont)\n",
    "#cv2.imshow('resize', imgresize)\n",
    "cv2.imshow('Gray Scale', imgGray)\n",
    "cv2.imshow('Dither', imgDither)\n",
    "\n",
    "cv2.waitKey(0)"
   ]
  },
  {
   "cell_type": "code",
   "execution_count": null,
   "metadata": {},
   "outputs": [],
   "source": [
    "\n",
    "points = 10100\n",
    "rand_points = np.random.rand(points, 2)\n",
    "rand_points[:, 0] *= 500\n",
    "rand_points[:, 1] *= 1000\n",
    "rand_points = np.round(rand_points)\n",
    "print(rand_points.shape)\n",
    "unique_points = np.unique(rand_points, axis=0)\n",
    "print(unique_points.shape)\n",
    "print(unique_points[:])\n"
   ]
  },
  {
   "cell_type": "code",
   "execution_count": 3,
   "metadata": {},
   "outputs": [
    {
     "name": "stdout",
     "output_type": "stream",
     "text": [
      "[3 3]\n",
      "[2 7]\n",
      "[[2 1]\n",
      " [3 3]\n",
      " [5 3]]\n",
      "yes\n",
      "yep\n",
      "[[2 1]\n",
      " [6 7]\n",
      " [5 3]]\n"
     ]
    }
   ],
   "source": [
    "myArray = np.array([3,3])\n",
    "otherArray = np.array([2,7])\n",
    "print(myArray)\n",
    "print(otherArray)\n",
    "myArray2 = np.array([[2,1],[3,3],[5,3]])\n",
    "print(myArray2)\n",
    "if myArray in myArray2:\n",
    "    print('yes')\n",
    "if otherArray in myArray2:\n",
    "    print('yep')\n",
    "myArray2[1] = np.array([6,7])\n",
    "print(myArray2)\n"
   ]
  }
 ],
 "metadata": {
  "kernelspec": {
   "display_name": "Python 3.10.7 ('.venv': venv)",
   "language": "python",
   "name": "python3"
  },
  "language_info": {
   "codemirror_mode": {
    "name": "ipython",
    "version": 3
   },
   "file_extension": ".py",
   "mimetype": "text/x-python",
   "name": "python",
   "nbconvert_exporter": "python",
   "pygments_lexer": "ipython3",
   "version": "3.10.7"
  },
  "orig_nbformat": 4,
  "vscode": {
   "interpreter": {
    "hash": "c9131dfc551a7dd17545d7058bec67c6c5c818a5ce244890fb139d5c1ed44f4c"
   }
  }
 },
 "nbformat": 4,
 "nbformat_minor": 2
}
