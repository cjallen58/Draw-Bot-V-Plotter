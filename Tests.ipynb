{
 "cells": [
  {
   "cell_type": "code",
   "execution_count": 8,
   "metadata": {},
   "outputs": [],
   "source": [
    "import cv2\n",
    "from matplotlib import pyplot as plt\n",
    "import numpy as np\n",
    "import utils\n",
    "from scipy.spatial.distance import pdist, squareform\n",
    "from tsp_solver.greedy_numpy import solve_tsp\n",
    "from math import sqrt\n"
   ]
  },
  {
   "cell_type": "markdown",
   "metadata": {},
   "source": [
    "Cell below is for image reformating"
   ]
  },
  {
   "cell_type": "code",
   "execution_count": 7,
   "metadata": {},
   "outputs": [
    {
     "name": "stdout",
     "output_type": "stream",
     "text": [
      "(158915, 2)\n",
      "[[0 1]\n",
      " [0 3]\n",
      " [0 5]]\n"
     ]
    }
   ],
   "source": [
    "img = cv2.imread('./Images/statue.jpg', 1)\n",
    "imgCont = utils.contrast(img)\n",
    "imgresize = utils.rez(img)\n",
    "imgGray = cv2.cvtColor(imgresize, cv2.COLOR_BGR2GRAY)\n",
    "imgDither = utils.dithering(imgGray)\n",
    "dPoints = np.argwhere(imgDither == 0)\n",
    "dPoints = np.delete(dPoints, 2, 1)\n",
    "print(dPoints.shape)\n",
    "print(dPoints[:3])\n"
   ]
  },
  {
   "cell_type": "code",
   "execution_count": null,
   "metadata": {},
   "outputs": [],
   "source": [
    "cv2.imshow('orig', img)\n",
    "cv2.imshow('Contrast', imgCont)\n",
    "cv2.imshow('resize', imgresize)\n",
    "cv2.imshow('Gray Scale', imgGray)\n",
    "cv2.imshow('Dither', imgDither)\n",
    "\n",
    "cv2.waitKey(0)"
   ]
  },
  {
   "attachments": {},
   "cell_type": "markdown",
   "metadata": {},
   "source": [
    "Cells Below are testing my functions"
   ]
  },
  {
   "cell_type": "code",
   "execution_count": 3,
   "metadata": {},
   "outputs": [],
   "source": [
    "block_points = utils.tspsort(imgDither)"
   ]
  },
  {
   "cell_type": "code",
   "execution_count": 4,
   "metadata": {},
   "outputs": [
    {
     "name": "stdout",
     "output_type": "stream",
     "text": [
      "7656\n",
      "[89. 54.]\n",
      "[89. 55.]\n",
      "[88. 55.]\n",
      "[87. 55.]\n"
     ]
    }
   ],
   "source": [
    "i = 1\n",
    "print(len(block_points))\n",
    "for x in block_points:\n",
    "    print(x)\n",
    "    i += 1\n",
    "    if i == 5:\n",
    "        break"
   ]
  },
  {
   "attachments": {},
   "cell_type": "markdown",
   "metadata": {},
   "source": [
    "Cells below are for making new functions"
   ]
  },
  {
   "cell_type": "code",
   "execution_count": 12,
   "metadata": {},
   "outputs": [
    {
     "ename": "IndexError",
     "evalue": "index 2 is out of bounds for axis 1 with size 2",
     "output_type": "error",
     "traceback": [
      "\u001b[1;31m---------------------------------------------------------------------------\u001b[0m",
      "\u001b[1;31mIndexError\u001b[0m                                Traceback (most recent call last)",
      "Cell \u001b[1;32mIn [12], line 10\u001b[0m\n\u001b[0;32m      8\u001b[0m new \u001b[39m=\u001b[39m imgDither[xmin:(x\u001b[39m+\u001b[39m\u001b[39m1\u001b[39m), ymin:(y\u001b[39m+\u001b[39m\u001b[39m1\u001b[39m)]\n\u001b[0;32m      9\u001b[0m bPoints \u001b[39m=\u001b[39m np\u001b[39m.\u001b[39margwhere(new \u001b[39m==\u001b[39m \u001b[39m0\u001b[39m)\n\u001b[1;32m---> 10\u001b[0m bPoints \u001b[39m=\u001b[39m np\u001b[39m.\u001b[39;49mdelete(dPoints, \u001b[39m2\u001b[39;49m, \u001b[39m1\u001b[39;49m)\n\u001b[0;32m     11\u001b[0m \u001b[39mwhile\u001b[39;00m bPoints\u001b[39m.\u001b[39msize \u001b[39m>\u001b[39m \u001b[39m0\u001b[39m:\n\u001b[0;32m     12\u001b[0m     shortest \u001b[39m=\u001b[39m {}\n",
      "File \u001b[1;32m<__array_function__ internals>:180\u001b[0m, in \u001b[0;36mdelete\u001b[1;34m(*args, **kwargs)\u001b[0m\n",
      "File \u001b[1;32mj:\\Python\\Projects\\Images\\.venv\\lib\\site-packages\\numpy\\lib\\function_base.py:5156\u001b[0m, in \u001b[0;36mdelete\u001b[1;34m(arr, obj, axis)\u001b[0m\n\u001b[0;32m   5153\u001b[0m \u001b[39mif\u001b[39;00m single_value:\n\u001b[0;32m   5154\u001b[0m     \u001b[39m# optimization for a single value\u001b[39;00m\n\u001b[0;32m   5155\u001b[0m     \u001b[39mif\u001b[39;00m (obj \u001b[39m<\u001b[39m \u001b[39m-\u001b[39mN \u001b[39mor\u001b[39;00m obj \u001b[39m>\u001b[39m\u001b[39m=\u001b[39m N):\n\u001b[1;32m-> 5156\u001b[0m         \u001b[39mraise\u001b[39;00m \u001b[39mIndexError\u001b[39;00m(\n\u001b[0;32m   5157\u001b[0m             \u001b[39m\"\u001b[39m\u001b[39mindex \u001b[39m\u001b[39m%i\u001b[39;00m\u001b[39m is out of bounds for axis \u001b[39m\u001b[39m%i\u001b[39;00m\u001b[39m with \u001b[39m\u001b[39m\"\u001b[39m\n\u001b[0;32m   5158\u001b[0m             \u001b[39m\"\u001b[39m\u001b[39msize \u001b[39m\u001b[39m%i\u001b[39;00m\u001b[39m\"\u001b[39m \u001b[39m%\u001b[39m (obj, axis, N))\n\u001b[0;32m   5159\u001b[0m     \u001b[39mif\u001b[39;00m (obj \u001b[39m<\u001b[39m \u001b[39m0\u001b[39m):\n\u001b[0;32m   5160\u001b[0m         obj \u001b[39m+\u001b[39m\u001b[39m=\u001b[39m N\n",
      "\u001b[1;31mIndexError\u001b[0m: index 2 is out of bounds for axis 1 with size 2"
     ]
    }
   ],
   "source": [
    "final_order = np.zeros((1,2))\n",
    "\n",
    "for i in block_points:\n",
    "    x = int(i[0] * 5)\n",
    "    xmin = int(x - 5)\n",
    "    y = int(i[1] * 5)\n",
    "    ymin = int(y - 5)\n",
    "    new = imgDither[xmin:(x+1), ymin:(y+1)]\n",
    "    bPoints = np.argwhere(new == 0)\n",
    "    bPoints = np.delete(dPoints, 2, 1)\n",
    "    while bPoints.size > 0:\n",
    "        shortest = {}\n",
    "        #nearest neighbord for block\n",
    "        for p in bPoints:\n",
    "            #calculate distance\n",
    "            dist = sqrt((p[0]**2) + (p[1]**2))\n",
    "            \n",
    "            #compare distances and update shortest\n",
    "            if 'distance' in shortest:\n",
    "                if dist < shortest['distance']:\n",
    "                    shortest['distance'] = dist\n",
    "                    shortest['point'] = p\n",
    "                else:\n",
    "                    continue\n",
    "            else:\n",
    "                shortest['distance'] = dist\n",
    "                shortest['point'] = p\n",
    "        \n",
    "        final_order = np.append(final_order, [shortest['point']], axis = 0)\n",
    "        location = np.where(bPoints == shortest['point'])\n",
    "        bPoints = np.delete(bPoints, location[0][0], 0)\n",
    "final_order = np.delete(final_order, 0, 0)\n",
    "\n",
    "final = np.hsplit(final_order, 2)\n",
    "plt.plot(final[0], final[1], c = 'k', linewidth = .2)\n",
    "plt.show()\n",
    "    \n",
    "    "
   ]
  },
  {
   "attachments": {},
   "cell_type": "markdown",
   "metadata": {},
   "source": [
    "Cells below are for numpy testing"
   ]
  },
  {
   "cell_type": "code",
   "execution_count": null,
   "metadata": {},
   "outputs": [],
   "source": [
    "test = np.array([[0, 255, 0, 0, 255, 0, 255, 0, 0, 255], \n",
    "    [0, 255, 0, 0, 255, 0, 255, 0, 0, 255], \n",
    "    [0, 255, 0, 0, 255, 0, 255, 0, 0, 255],\n",
    "    [0, 255, 0, 0, 255, 0, 255, 0, 0, 255],\n",
    "    [0, 255, 0, 0, 255, 0, 255, 0, 0, 255],\n",
    "    [0, 255, 0, 0, 255, 0, 255, 0, 0, 255],\n",
    "    [0, 255, 0, 0, 255, 0, 255, 0, 0, 255],\n",
    "    [0, 255, 0, 0, 255, 0, 255, 0, 0, 255],\n",
    "    [0, 255, 0, 0, 255, 0, 255, 0, 0, 255],\n",
    "    [0, 255, 0, 0, 255, 0, 255, 0, 0, 255]])\n",
    "new = test[0:(1+1), 0:2]\n",
    "print(new)\n",
    "for y in new:\n",
    "    print(y)\n",
    "    for x in y:\n",
    "        if x:\n",
    "            print(True)\n",
    "\n",
    "myZeros = np.argwhere(new == 1)\n",
    "print(f\"myZeros:\\n{myZeros}\")\n",
    "print(myZeros.size)\n",
    "if myZeros.size:\n",
    "    print(\"its empty\")"
   ]
  },
  {
   "cell_type": "code",
   "execution_count": null,
   "metadata": {},
   "outputs": [],
   "source": [
    "indicies = np.zeros((1, 2))\n",
    "print(indicies)\n",
    "indicies = np.append(indicies, [[1, 5]], axis=0)\n",
    "print(indicies)\n",
    "indicies = np.delete(indicies, 0, 0)\n",
    "print(indicies)"
   ]
  },
  {
   "attachments": {},
   "cell_type": "markdown",
   "metadata": {},
   "source": [
    "Cell below tests array condensing for dithered image"
   ]
  },
  {
   "cell_type": "code",
   "execution_count": null,
   "metadata": {},
   "outputs": [],
   "source": [
    "test = np.array([[0, 255, 0, 0, 255, 0, 255, 0, 0, 255], \n",
    "    [0, 255, 0, 0, 255, 0, 255, 0, 0, 255], \n",
    "    [0, 255, 0, 0, 255, 0, 255, 0, 0, 255],\n",
    "    [0, 255, 0, 0, 255, 0, 255, 0, 0, 255],\n",
    "    [0, 255, 0, 0, 255, 0, 255, 0, 0, 255],\n",
    "    [255, 255, 255, 255, 255, 255, 255, 255, 255, 255],\n",
    "    [255, 255, 255, 255, 255, 255, 255, 255, 255, 255],\n",
    "    [255, 255, 255, 255, 255, 255, 255, 255, 255, 255],\n",
    "    [255, 255, 255, 255, 255, 255, 255, 255, 255, 255],\n",
    "    [255, 255, 255, 255, 255, 255, 255, 255, 0, 255]])\n",
    "    "
   ]
  },
  {
   "cell_type": "code",
   "execution_count": null,
   "metadata": {},
   "outputs": [],
   "source": [
    "test = imgDither"
   ]
  },
  {
   "cell_type": "code",
   "execution_count": null,
   "metadata": {},
   "outputs": [],
   "source": [
    "x = 5\n",
    "y = 5\n",
    "xmin = x -5\n",
    "ymin = y - 5\n",
    "i = j = 0\n",
    "indicies = np.zeros((1, 2))\n",
    "height = test.shape[0]\n",
    "print(f\"height = {height}\")\n",
    "width = test.shape[1]\n",
    "print(f\"width = {width}\")\n",
    "while y <= height:\n",
    "    while x <= width:\n",
    "        xmin = x - 5\n",
    "        ymin = y - 5\n",
    "        new = test[xmin:(x + 1), ymin:(y + 1)]\n",
    "        #check if there are black pixels in new array\n",
    "        points = np.argwhere(new == 0)\n",
    "        #store index if there is... i can run the tsp solver on this index later\n",
    "        if points.size:\n",
    "            indicies = np.append(indicies, [[i, j]], axis=0)\n",
    "        #print(f\"x = {x}\")\n",
    "        x += 5\n",
    "        i += 1\n",
    "    #print(f\"y = {y}\")\n",
    "    y += 5\n",
    "    j += 1\n",
    "    x = 5\n",
    "    i = 0\n",
    "    \n",
    "indicies = np.delete(indicies, 0, 0)\n",
    "print(indicies.shape)\n",
    "print(dPoints.shape)\n",
    "print(indicies[0 ,0])\n",
    "print(test[indicies[0 ,0],0])"
   ]
  },
  {
   "cell_type": "code",
   "execution_count": null,
   "metadata": {},
   "outputs": [],
   "source": [
    "myArray = np.array([[1, 3], [1, 5], [2,5], [5,4]])\n",
    "newIndicies = indicies.astype(int)\n",
    "for x in newIndicies:\n",
    "    print(myArray[x[0]])"
   ]
  }
 ],
 "metadata": {
  "kernelspec": {
   "display_name": "Python 3.10.7 ('.venv': venv)",
   "language": "python",
   "name": "python3"
  },
  "language_info": {
   "codemirror_mode": {
    "name": "ipython",
    "version": 3
   },
   "file_extension": ".py",
   "mimetype": "text/x-python",
   "name": "python",
   "nbconvert_exporter": "python",
   "pygments_lexer": "ipython3",
   "version": "3.10.7"
  },
  "orig_nbformat": 4,
  "vscode": {
   "interpreter": {
    "hash": "c9131dfc551a7dd17545d7058bec67c6c5c818a5ce244890fb139d5c1ed44f4c"
   }
  }
 },
 "nbformat": 4,
 "nbformat_minor": 2
}
