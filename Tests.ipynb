{
 "cells": [
  {
   "cell_type": "code",
   "execution_count": 1,
   "metadata": {},
   "outputs": [],
   "source": [
    "import cv2\n",
    "from matplotlib import pyplot as plt\n",
    "import numpy as np\n",
    "import utils\n",
    "from scipy.spatial.distance import pdist, squareform\n",
    "from tsp_solver.greedy_numpy import solve_tsp\n",
    "from math import sqrt\n"
   ]
  },
  {
   "attachments": {},
   "cell_type": "markdown",
   "metadata": {},
   "source": [
    "Cell below is for image reformating"
   ]
  },
  {
   "cell_type": "code",
   "execution_count": 2,
   "metadata": {},
   "outputs": [
    {
     "name": "stdout",
     "output_type": "stream",
     "text": [
      "(129072, 2)\n"
     ]
    }
   ],
   "source": [
    "img = cv2.imread('./Images/statue.jpg', 1)\n",
    "#imgCont = utils.contrast(img)\n",
    "imgresize = utils.rez(img)\n",
    "imgGray = cv2.cvtColor(imgresize, cv2.COLOR_BGR2GRAY)\n",
    "imgDither = utils.dithering(imgGray, .2)\n",
    "dPoints = np.argwhere(imgDither == 0)\n",
    "dPoints = np.delete(dPoints, 2, 1)\n",
    "print(dPoints.shape)\n",
    "#print(dPoints[:3])\n",
    "\n",
    "\n"
   ]
  },
  {
   "cell_type": "code",
   "execution_count": 3,
   "metadata": {},
   "outputs": [
    {
     "name": "stdout",
     "output_type": "stream",
     "text": [
      "None\n"
     ]
    }
   ],
   "source": [
    "dPoints = dPoints[:13000]\n",
    "tour = utils.nearest_neighbor_it(dPoints)\n",
    "print(tour)"
   ]
  },
  {
   "cell_type": "code",
   "execution_count": null,
   "metadata": {},
   "outputs": [],
   "source": [
    "final = np.hsplit(tour, 2)\n",
    "Points = utils.scale(final, 2)\n",
    "plt.plot(Points[0], Points[1], c = 'k', linewidth = .2)\n",
    "plt.show()"
   ]
  },
  {
   "cell_type": "code",
   "execution_count": null,
   "metadata": {},
   "outputs": [],
   "source": [
    "cv2.imshow('orig', img)\n",
    "#cv2.imshow('Contrast', imgCont)\n",
    "#cv2.imshow('resize', imgresize)\n",
    "cv2.imshow('Gray Scale', imgGray)\n",
    "cv2.imshow('Dither', imgDither)\n",
    "\n",
    "cv2.waitKey(0)"
   ]
  },
  {
   "cell_type": "code",
   "execution_count": null,
   "metadata": {},
   "outputs": [],
   "source": [
    "test = dPoints[:10]\n",
    "tour = np.zeros((1, 2))\n",
    "while test.size > 0:\n",
    "    current = tour[-1]\n",
    "    nearest_city = None\n",
    "    nearest_dist = float('inf')\n",
    "    for i in range(len(test)):\n",
    "        if np.array_equal(test[i], current):\n",
    "            continue\n",
    "        distance = np.linalg.norm(current - test[i])\n",
    "        if distance < nearest_dist:\n",
    "            nearest_city = i\n",
    "            nearest_dist = distance\n",
    "    tour = np.append(tour, [test[nearest_city]], axis=0)\n",
    "    location = np.where(test == tour[-1])\n",
    "    test = np.delete(test, location[0][0], 0)\n",
    "print(tour)\n",
    "    \n",
    "\n",
    "\n"
   ]
  },
  {
   "cell_type": "code",
   "execution_count": 23,
   "metadata": {},
   "outputs": [
    {
     "name": "stdout",
     "output_type": "stream",
     "text": [
      "(10100, 2)\n",
      "(10008, 2)\n"
     ]
    }
   ],
   "source": [
    "\n",
    "points = 10100\n",
    "rand_points = np.random.rand(points, 2)\n",
    "rand_points[:, 0] *= 500\n",
    "rand_points[:, 1] *= 1000\n",
    "rand_points = np.round(rand_points)\n",
    "print(rand_points.shape)\n",
    "unique_points = np.unique(rand_points, axis=0)\n",
    "print(unique_points.shape)\n"
   ]
  },
  {
   "cell_type": "code",
   "execution_count": 8,
   "metadata": {},
   "outputs": [
    {
     "name": "stdout",
     "output_type": "stream",
     "text": [
      "[3 3]\n",
      "[[2 1]\n",
      " [3 3]\n",
      " [5 3]]\n",
      "[2 1]\n",
      "[3 3]\n",
      "yes\n",
      "[5 3]\n"
     ]
    }
   ],
   "source": [
    "myArray = np.array([3,3])\n",
    "print(myArray)\n",
    "myArray2 = np.array([[2,1],[3,3],[5,3]])\n",
    "print(myArray2)\n",
    "for i in myArray2:\n",
    "    print(i)\n",
    "    if myArray[0] == i[0] and myArray[1] == i[1]:\n",
    "        print('yes')\n"
   ]
  }
 ],
 "metadata": {
  "kernelspec": {
   "display_name": "Python 3.10.7 ('.venv': venv)",
   "language": "python",
   "name": "python3"
  },
  "language_info": {
   "codemirror_mode": {
    "name": "ipython",
    "version": 3
   },
   "file_extension": ".py",
   "mimetype": "text/x-python",
   "name": "python",
   "nbconvert_exporter": "python",
   "pygments_lexer": "ipython3",
   "version": "3.10.7"
  },
  "orig_nbformat": 4,
  "vscode": {
   "interpreter": {
    "hash": "c9131dfc551a7dd17545d7058bec67c6c5c818a5ce244890fb139d5c1ed44f4c"
   }
  }
 },
 "nbformat": 4,
 "nbformat_minor": 2
}
