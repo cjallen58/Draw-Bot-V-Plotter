{
 "cells": [
  {
   "cell_type": "code",
   "execution_count": null,
   "metadata": {},
   "outputs": [],
   "source": [
    "import cv2\n",
    "from matplotlib import pyplot as plt\n",
    "import numpy as np\n",
    "import utils\n"
   ]
  },
  {
   "cell_type": "code",
   "execution_count": null,
   "metadata": {},
   "outputs": [],
   "source": [
    "img = cv2.imread('./Images/statue.jpg', 1)\n",
    "imgresize = utils.rez(img)\n",
    "imgGray = cv2.cvtColor(imgresize, cv2.COLOR_BGR2GRAY)\n",
    "imgDither = utils.dithering(imgGray)"
   ]
  },
  {
   "cell_type": "code",
   "execution_count": null,
   "metadata": {},
   "outputs": [],
   "source": [
    "black_points = np.argwhere(imgDither == 0)\n"
   ]
  },
  {
   "cell_type": "code",
   "execution_count": 13,
   "metadata": {},
   "outputs": [
    {
     "name": "stdout",
     "output_type": "stream",
     "text": [
      "[[  1  74   0]\n",
      " [  1  75   0]\n",
      " [  1  77   0]\n",
      " [  1  78   0]\n",
      " [  1  80   0]\n",
      " [  1  81   0]\n",
      " [  1  83   0]\n",
      " [  1  85   0]\n",
      " [  1  87   0]\n",
      " [  1  88   0]\n",
      " [  1  90   0]\n",
      " [  1  92   0]\n",
      " [  1  93   0]\n",
      " [  1  94   0]\n",
      " [  1  96   0]\n",
      " [  1  98   0]\n",
      " [  1 100   0]\n",
      " [  1 102   0]\n",
      " [  1 104   0]\n",
      " [  1 106   0]\n",
      " [  1 108   0]\n",
      " [  1 110   0]\n",
      " [  1 112   0]\n",
      " [  1 114   0]\n",
      " [  1 116   0]\n",
      " [  1 118   0]\n",
      " [  1 120   0]\n",
      " [  1 122   0]\n",
      " [  1 124   0]\n",
      " [  1 126   0]]\n"
     ]
    }
   ],
   "source": [
    "print(black_points[80:150])\n"
   ]
  },
  {
   "cell_type": "code",
   "execution_count": null,
   "metadata": {},
   "outputs": [],
   "source": [
    "ID = utils.pointConversion(imgDither)\n",
    "final =  #utils.order(ID) this function does not work how I want\n",
    "final = np.hsplit(final, 2)\n",
    "Points = utils.scale(final, 2)"
   ]
  },
  {
   "cell_type": "code",
   "execution_count": null,
   "metadata": {},
   "outputs": [],
   "source": [
    "plt.subplot(1, 2, 1)\n",
    "plt.plot(final[0], final[1], '.')\n",
    "plt.title('Dither Image')\n",
    "\n",
    "\n",
    "plt.subplot(1, 2, 2)\n",
    "plt.plot(Points[0], Points[1], '.')\n",
    "plt.title('Scaled Image')\n",
    "\n",
    "cv2.imshow('Original', img)\n",
    "cv2.imshow('resize', imgresize)\n",
    "cv2.imshow('Gray', imgGray)\n",
    "cv2.imshow('Dith', imgDither)\n",
    "\n",
    "plt.show()\n",
    "cv2.waitKey(0)"
   ]
  },
  {
   "cell_type": "code",
   "execution_count": null,
   "metadata": {},
   "outputs": [],
   "source": [
    "plt.plot(Points[0], Points[1], c = 'k', linewidth = .2)\n",
    "plt.show()\n",
    "cv2.waitKey(0)"
   ]
  }
 ],
 "metadata": {
  "kernelspec": {
   "display_name": "Python 3.10.7 ('.venv': venv)",
   "language": "python",
   "name": "python3"
  },
  "language_info": {
   "codemirror_mode": {
    "name": "ipython",
    "version": 3
   },
   "file_extension": ".py",
   "mimetype": "text/x-python",
   "name": "python",
   "nbconvert_exporter": "python",
   "pygments_lexer": "ipython3",
   "version": "3.10.7"
  },
  "orig_nbformat": 4,
  "vscode": {
   "interpreter": {
    "hash": "c9131dfc551a7dd17545d7058bec67c6c5c818a5ce244890fb139d5c1ed44f4c"
   }
  }
 },
 "nbformat": 4,
 "nbformat_minor": 2
}
