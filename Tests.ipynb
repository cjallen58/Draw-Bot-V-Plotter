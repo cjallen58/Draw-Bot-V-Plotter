{
 "cells": [
  {
   "cell_type": "code",
   "execution_count": 1,
   "metadata": {},
   "outputs": [],
   "source": [
    "import cv2\n",
    "from matplotlib import pyplot as plt\n",
    "import numpy as np\n",
    "import utils\n",
    "from scipy.spatial.distance import pdist, squareform\n",
    "from tsp_solver.greedy_numpy import solve_tsp\n",
    "from math import sqrt\n"
   ]
  },
  {
   "cell_type": "markdown",
   "metadata": {},
   "source": [
    "Cell below is for image reformating"
   ]
  },
  {
   "cell_type": "code",
   "execution_count": 6,
   "metadata": {},
   "outputs": [
    {
     "name": "stdout",
     "output_type": "stream",
     "text": [
      "(475929, 2)\n",
      "[[  0 139]\n",
      " [  0 141]\n",
      " [  0 223]]\n"
     ]
    }
   ],
   "source": [
    "img = cv2.imread('./Images/statue.jpg', 1)\n",
    "imgCont = utils.contrast(img)\n",
    "imgresize = utils.rez(img)\n",
    "imgGray = cv2.cvtColor(img, cv2.COLOR_BGR2GRAY)\n",
    "imgDither = utils.dithering(imgGray, .2)\n",
    "dPoints = np.argwhere(imgDither == 0)\n",
    "dPoints = np.delete(dPoints, 2, 1)\n",
    "print(dPoints.shape)\n",
    "print(dPoints[:3])\n"
   ]
  },
  {
   "cell_type": "code",
   "execution_count": 7,
   "metadata": {},
   "outputs": [
    {
     "data": {
      "text/plain": [
       "-1"
      ]
     },
     "execution_count": 7,
     "metadata": {},
     "output_type": "execute_result"
    }
   ],
   "source": [
    "cv2.imshow('orig', img)\n",
    "#cv2.imshow('Contrast', imgCont)\n",
    "#cv2.imshow('resize', imgresize)\n",
    "cv2.imshow('Gray Scale', imgGray)\n",
    "cv2.imshow('Dither', imgDither)\n",
    "\n",
    "cv2.waitKey(0)"
   ]
  },
  {
   "cell_type": "code",
   "execution_count": null,
   "metadata": {},
   "outputs": [],
   "source": []
  },
  {
   "attachments": {},
   "cell_type": "markdown",
   "metadata": {},
   "source": [
    "Cells below are for making new functions"
   ]
  },
  {
   "cell_type": "code",
   "execution_count": null,
   "metadata": {},
   "outputs": [],
   "source": []
  },
  {
   "cell_type": "code",
   "execution_count": null,
   "metadata": {},
   "outputs": [],
   "source": [
    "test = np.array([[0, 255, 0, 0, 255, 0, 255, 0, 0, 255], \n",
    "    [0, 255, 0, 0, 255, 0, 255, 0, 0, 255], \n",
    "    [0, 255, 0, 0, 255, 0, 255, 0, 0, 255],\n",
    "    [0, 255, 0, 0, 255, 0, 255, 0, 0, 255],\n",
    "    [0, 255, 0, 0, 255, 0, 255, 0, 0, 255],\n",
    "    [255, 255, 255, 255, 255, 255, 255, 255, 255, 255],\n",
    "    [255, 255, 255, 255, 255, 255, 255, 255, 255, 255],\n",
    "    [255, 255, 255, 255, 255, 255, 255, 255, 255, 255],\n",
    "    [255, 255, 255, 255, 255, 255, 255, 255, 255, 255],\n",
    "    [255, 255, 255, 255, 255, 255, 255, 255, 0, 255]])\n",
    "    "
   ]
  }
 ],
 "metadata": {
  "kernelspec": {
   "display_name": "Python 3.10.7 ('.venv': venv)",
   "language": "python",
   "name": "python3"
  },
  "language_info": {
   "codemirror_mode": {
    "name": "ipython",
    "version": 3
   },
   "file_extension": ".py",
   "mimetype": "text/x-python",
   "name": "python",
   "nbconvert_exporter": "python",
   "pygments_lexer": "ipython3",
   "version": "3.10.7"
  },
  "orig_nbformat": 4,
  "vscode": {
   "interpreter": {
    "hash": "c9131dfc551a7dd17545d7058bec67c6c5c818a5ce244890fb139d5c1ed44f4c"
   }
  }
 },
 "nbformat": 4,
 "nbformat_minor": 2
}
