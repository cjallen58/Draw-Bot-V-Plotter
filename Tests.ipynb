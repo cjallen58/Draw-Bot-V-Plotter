{
 "cells": [
  {
   "cell_type": "code",
   "execution_count": null,
   "metadata": {},
   "outputs": [],
   "source": [
    "import cv2\n",
    "from matplotlib import pyplot as plt\n",
    "import numpy as np\n",
    "import utils\n",
    "from scipy.spatial.distance import pdist, squareform\n",
    "from tsp_solver.greedy_numpy import solve_tsp\n"
   ]
  },
  {
   "cell_type": "markdown",
   "metadata": {},
   "source": [
    "Cell below is for image reformating"
   ]
  },
  {
   "cell_type": "code",
   "execution_count": null,
   "metadata": {},
   "outputs": [],
   "source": [
    "img = cv2.imread('./Images/statue.jpg', 1)\n",
    "imgCont = utils.contrast(img)\n",
    "imgresize = utils.rez(imgCont)\n",
    "imgGray = cv2.cvtColor(imgresize, cv2.COLOR_BGR2GRAY)\n",
    "imgDither = utils.dithering(imgGray)\n",
    "\n",
    "cv2.imshow('orig', img)\n",
    "cv2.imshow('Contrast', imgCont)\n",
    "cv2.imshow('resize', imgresize)\n",
    "cv2.imshow('Gray Scale', imgGray)\n",
    "cv2.imshow('Dither', imgDither)\n",
    "\n",
    "cv2.waitKey(0)"
   ]
  },
  {
   "cell_type": "markdown",
   "metadata": {},
   "source": [
    "Cells below creates the needed arrays for tsp solver\n",
    "currently running into a problem where data set is too large"
   ]
  },
  {
   "cell_type": "code",
   "execution_count": null,
   "metadata": {},
   "outputs": [],
   "source": [
    "black_points = np.argwhere(imgDither == 0)\n",
    "black_points = np.delete(black_points, 2, 1)\n",
    "print(black_points.shape)\n",
    "\n",
    "xyarray = np.hsplit(black_points,2)"
   ]
  },
  {
   "cell_type": "code",
   "execution_count": null,
   "metadata": {},
   "outputs": [],
   "source": [
    "distances = pdist(black_points)\n",
    "dist_matrix = squareform(distances)\n",
    "print(dist_matrix.shape)"
   ]
  },
  {
   "cell_type": "code",
   "execution_count": null,
   "metadata": {},
   "outputs": [],
   "source": [
    "path = solve_tsp(dist_matrix)"
   ]
  },
  {
   "cell_type": "code",
   "execution_count": null,
   "metadata": {},
   "outputs": [],
   "source": [
    "final_points = [black_points[x] for x in path]\n",
    "#print(final_points[0:6])\n",
    "x_vals = [x[1] for x in final_points]\n",
    "y_vals = [-x[0] for x in final_points]\n",
    "\n",
    "plt.figure(figsize=(3,4))\n",
    "plt.plot([x[1] for x in final_points],\n",
    "[-x[0] for x in final_points],\n",
    "c='k', linewidth=.5)"
   ]
  },
  {
   "cell_type": "code",
   "execution_count": null,
   "metadata": {},
   "outputs": [],
   "source": [
    "\n",
    "plt.figure(figsize=(6,8))\n",
    "plt.plot(xyarray[1], -(xyarray[0]), '.', c='k', markersize=1)\n",
    "plt.show()"
   ]
  },
  {
   "cell_type": "code",
   "execution_count": null,
   "metadata": {},
   "outputs": [],
   "source": [
    "ID = utils.pointConversion(imgDither)\n",
    "final =  #utils.order(ID) this function does not work how I want\n",
    "final = np.hsplit(final, 2)\n",
    "Points = utils.scale(final, 2)"
   ]
  },
  {
   "cell_type": "code",
   "execution_count": null,
   "metadata": {},
   "outputs": [],
   "source": [
    "plt.subplot(1, 2, 1)\n",
    "plt.plot(final[0], final[1], '.')\n",
    "plt.title('Dither Image')\n",
    "\n",
    "\n",
    "plt.subplot(1, 2, 2)\n",
    "plt.plot(Points[0], Points[1], '.')\n",
    "plt.title('Scaled Image')\n",
    "\n",
    "cv2.imshow('Original', img)\n",
    "cv2.imshow('resize', imgresize)\n",
    "cv2.imshow('Gray', imgGray)\n",
    "cv2.imshow('Dith', imgDither)\n",
    "\n",
    "plt.show()\n",
    "cv2.waitKey(0)"
   ]
  },
  {
   "cell_type": "code",
   "execution_count": null,
   "metadata": {},
   "outputs": [],
   "source": [
    "plt.plot(Points[0], Points[1], c = 'k', linewidth = .2)\n",
    "plt.show()\n",
    "cv2.waitKey(0)"
   ]
  }
 ],
 "metadata": {
  "kernelspec": {
   "display_name": "Python 3.10.7 ('.venv': venv)",
   "language": "python",
   "name": "python3"
  },
  "language_info": {
   "codemirror_mode": {
    "name": "ipython",
    "version": 3
   },
   "file_extension": ".py",
   "mimetype": "text/x-python",
   "name": "python",
   "nbconvert_exporter": "python",
   "pygments_lexer": "ipython3",
   "version": "3.10.7"
  },
  "orig_nbformat": 4,
  "vscode": {
   "interpreter": {
    "hash": "c9131dfc551a7dd17545d7058bec67c6c5c818a5ce244890fb139d5c1ed44f4c"
   }
  }
 },
 "nbformat": 4,
 "nbformat_minor": 2
}
